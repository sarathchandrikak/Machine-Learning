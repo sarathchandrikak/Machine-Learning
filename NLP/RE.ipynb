{
 "cells": [
  {
   "cell_type": "code",
   "execution_count": 1,
   "metadata": {
    "collapsed": true
   },
   "outputs": [],
   "source": [
    "import re"
   ]
  },
  {
   "cell_type": "markdown",
   "metadata": {},
   "source": [
    "### Q1. \n",
    "Write a regular expression to match all the files that have either .exe, .xml or .jar extensions. A valid file name can contain any alphabet, digit and underscore followed by the extension."
   ]
  },
  {
   "cell_type": "code",
   "execution_count": 7,
   "metadata": {},
   "outputs": [
    {
     "name": "stdout",
     "output_type": "stream",
     "text": [
      "['employees.xml', 'calculator.jar', 'nfsmw.exe', 'bkgrnd001.jpg', 'sales_report.ppt']\n"
     ]
    }
   ],
   "source": [
    "files = ['employees.xml', 'calculator.jar', 'nfsmw.exe', 'bkgrnd001.jpg', 'sales_report.ppt']\n",
    "\n",
    "result = []\n",
    "\n",
    "for file in files:\n",
    "    if re.search('^.+\\.(xml|jar|exe)$', file):\n",
    "        result.append(file)\n",
    "print(result)"
   ]
  },
  {
   "cell_type": "markdown",
   "metadata": {},
   "source": [
    "### Q2. \n",
    "Write a regular expression to match all the addresses that have Koramangala embedded in them."
   ]
  },
  {
   "cell_type": "code",
   "execution_count": 21,
   "metadata": {},
   "outputs": [
    {
     "name": "stdout",
     "output_type": "stream",
     "text": [
      "['466, 5th block, Koramangala, Bangalore', '4th BLOCK, KORAMANGALA - 560034']\n"
     ]
    }
   ],
   "source": [
    "addresses = ['466, 5th block, Koramangala, Bangalore', '4th BLOCK, KORAMANGALA - 560034', '999, St. Marks Road, Bangalore']\n",
    "\n",
    "result = []\n",
    "\n",
    "for adress in addresses:\n",
    "    if re.search('Koramangala|KORAMANGALA', adress):\n",
    "        result.append(adress)\n",
    "\n",
    "print(result)"
   ]
  },
  {
   "cell_type": "markdown",
   "metadata": {},
   "source": [
    "### Q3. \n",
    "Write a regular expression that matches either integer numbers or floats upto 2 decimal places.\n"
   ]
  },
  {
   "cell_type": "code",
   "execution_count": 12,
   "metadata": {},
   "outputs": [
    {
     "name": "stdout",
     "output_type": "stream",
     "text": [
      "['2', '2.3', '4.56', '.61', '4.567', '75.8792']\n"
     ]
    }
   ],
   "source": [
    "numbers = ['2', '2.3', '4.56', '.61', '4.567', '75.8792', 'abc']\n",
    "\n",
    "result = []\n",
    "\n",
    "for number in numbers:\n",
    "    pattern = '\\d|\\d+.\\d+$'\n",
    "    if re.search(pattern, number):\n",
    "        result.append(number)\n",
    "\n",
    "print(result)"
   ]
  },
  {
   "cell_type": "markdown",
   "metadata": {},
   "source": [
    "### Q4. \n",
    "Write a regular expression to match the model names of smartphones which follow the following pattern: \n",
    "\n",
    "mobile company name followed by underscore followed by model name followed by underscore followed by model number\n"
   ]
  },
  {
   "cell_type": "code",
   "execution_count": 15,
   "metadata": {},
   "outputs": [
    {
     "name": "stdout",
     "output_type": "stream",
     "text": [
      "['apple_iphone_6', 'samsung_note_4', 'google_pixel_2']\n"
     ]
    }
   ],
   "source": [
    "phones = ['apple_iphone_6', 'samsung_note_4', 'google_pixel_2', 'apple_6', 'iphone_6', 'google_pixel_']\n",
    "\n",
    "result = []\n",
    "\n",
    "for phone in phones:\n",
    "    pattern = '\\w+_\\w+_\\d+$'\n",
    "    if re.search(pattern, phone):\n",
    "        result.append(phone)\n",
    "\n",
    "print(result)"
   ]
  },
  {
   "cell_type": "markdown",
   "metadata": {},
   "source": [
    "### Q5.\n",
    "Write a regular expression that can be used to match the emails present in a database. \n",
    "\n",
    "The pattern of a valid email address is defined as follows:\n",
    "The '@' character can be preceded either by alphanumeric characters, period characters or underscore characters. The length of the part that precedes the '@' character should be between 4 to 20 characters.\n",
    "\n",
    "The '@' character should be followed by a domain name (e.g. gmail.com). The domain name has three parts - a prefix (e.g. 'gmail'), the period character and a suffix (e.g. 'com'). The prefix can have a length between 3 to 15 characters followed by a period character followed by either of these suffixes - 'com', 'in' or 'org'."
   ]
  },
  {
   "cell_type": "code",
   "execution_count": 22,
   "metadata": {},
   "outputs": [
    {
     "name": "stdout",
     "output_type": "stream",
     "text": [
      "['random.guy123@gmail.com', 'mr_x_in_bombay@gov.in']\n"
     ]
    }
   ],
   "source": [
    "emails = ['random.guy123@gmail.com', 'mr_x_in_bombay@gov.in', '1@ued.org',\n",
    "          '@gmail.com','abc!@yahoo.in', 'sam_12@gov.us', 'neeraj@']\n",
    "\n",
    "result = []\n",
    "\n",
    "pattern = \"^[a-z_.0-9]{4,20}@[a-z]{3,15}\\.(com|in|org)$\"\n",
    "for email in emails:\n",
    "    if re.search(pattern, email):\n",
    "        result.append(email)\n",
    "\n",
    "# print result - result should only contain the items that match the pattern\n",
    "print(result)"
   ]
  }
 ],
 "metadata": {
  "kernelspec": {
   "display_name": "Python 3",
   "language": "python",
   "name": "python3"
  },
  "language_info": {
   "codemirror_mode": {
    "name": "ipython",
    "version": 3
   },
   "file_extension": ".py",
   "mimetype": "text/x-python",
   "name": "python",
   "nbconvert_exporter": "python",
   "pygments_lexer": "ipython3",
   "version": "3.9.7"
  }
 },
 "nbformat": 4,
 "nbformat_minor": 2
}
